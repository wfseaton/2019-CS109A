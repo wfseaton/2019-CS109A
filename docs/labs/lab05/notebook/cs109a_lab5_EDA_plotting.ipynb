{
 "cells": [
  {
   "cell_type": "markdown",
   "metadata": {},
   "source": [
    "# <img style=\"float: left; padding-right: 10px; width: 45px\" src=\"https://github.com/Harvard-IACS/2018-CS109A/blob/master/content/styles/iacs.png?raw=true\"> CS109A Introduction to Data Science \n",
    "\n",
    "\n",
    "## Lab 5:  Exploratory Data Analysis, `seaborn`, more Plotting\n",
    "\n",
    "**Harvard University**<br>\n",
    "**Fall 2019**<br>\n",
    "**Instructors:** Pavlos Protopapas, Kevin Rader, and Chris Tanner<br>\n",
    "**Material Preparation:** Eleni Kaxiras.\n",
    "\n",
    "---"
   ]
  },
  {
   "cell_type": "code",
   "execution_count": 1,
   "metadata": {},
   "outputs": [
    {
     "data": {
      "text/html": [
       "<style>\n",
       "blockquote { background: #AEDE94; }\n",
       "h1 { \n",
       "    padding-top: 25px;\n",
       "    padding-bottom: 25px;\n",
       "    text-align: left; \n",
       "    padding-left: 10px;\n",
       "    background-color: #DDDDDD; \n",
       "    color: black;\n",
       "}\n",
       "h2 { \n",
       "    padding-top: 10px;\n",
       "    padding-bottom: 10px;\n",
       "    text-align: left; \n",
       "    padding-left: 5px;\n",
       "    background-color: #EEEEEE; \n",
       "    color: black;\n",
       "}\n",
       "\n",
       "div.exercise {\n",
       "\tbackground-color: #ffcccc;\n",
       "\tborder-color: #E9967A; \t\n",
       "\tborder-left: 5px solid #800080; \n",
       "\tpadding: 0.5em;\n",
       "}\n",
       "\n",
       "span.sub-q {\n",
       "\tfont-weight: bold;\n",
       "}\n",
       "div.theme {\n",
       "\tbackground-color: #DDDDDD;\n",
       "\tborder-color: #E9967A; \t\n",
       "\tborder-left: 5px solid #800080; \n",
       "\tpadding: 0.5em;\n",
       "\tfont-size: 18pt;\n",
       "}\n",
       "div.gc { \n",
       "\tbackground-color: #AEDE94;\n",
       "\tborder-color: #E9967A; \t \n",
       "\tborder-left: 5px solid #800080; \n",
       "\tpadding: 0.5em;\n",
       "\tfont-size: 12pt;\n",
       "}\n",
       "p.q1 { \n",
       "    padding-top: 5px;\n",
       "    padding-bottom: 5px;\n",
       "    text-align: left; \n",
       "    padding-left: 5px;\n",
       "    background-color: #EEEEEE; \n",
       "    color: black;\n",
       "}\n",
       "header {\n",
       "   padding-top: 35px;\n",
       "    padding-bottom: 35px;\n",
       "    text-align: left; \n",
       "    padding-left: 10px;\n",
       "    background-color: #DDDDDD; \n",
       "    color: black;\n",
       "}\n",
       "</style>\n",
       "\n"
      ],
      "text/plain": [
       "<IPython.core.display.HTML object>"
      ]
     },
     "execution_count": 1,
     "metadata": {},
     "output_type": "execute_result"
    }
   ],
   "source": [
    "#RUN THIS CELL \n",
    "import requests\n",
    "from IPython.core.display import HTML\n",
    "styles = requests.get(\"https://raw.githubusercontent.com/Harvard-IACS/2018-CS109A/master/content/styles/cs109.css\").text\n",
    "HTML(styles)"
   ]
  },
  {
   "cell_type": "code",
   "execution_count": null,
   "metadata": {},
   "outputs": [],
   "source": [
    "# import the necessary libraries\n",
    "%matplotlib inline\n",
    "import numpy as np\n",
    "import scipy as sp\n",
    "import matplotlib as mpl\n",
    "import matplotlib.cm as cm\n",
    "import matplotlib.pyplot as plt\n",
    "import pandas as pd\n",
    "import time\n",
    "pd.set_option('display.width', 500)\n",
    "pd.set_option('display.max_columns', 200)\n",
    "pd.set_option('display.notebook_repr_html', True)\n",
    "import seaborn as sns\n",
    "\n",
    "from sklearn.linear_model import LinearRegression\n",
    "from sklearn.model_selection import train_test_split\n",
    "from sklearn.metrics import mean_squared_error\n",
    "\n",
    "import warnings\n",
    "warnings.filterwarnings('ignore')\n",
    "%config InlineBackend.figure_format ='retina'"
   ]
  },
  {
   "cell_type": "code",
   "execution_count": null,
   "metadata": {},
   "outputs": [],
   "source": [
    "%%javascript\n",
    "IPython.OutputArea.auto_scroll_threshold = 9999;"
   ]
  },
  {
   "cell_type": "markdown",
   "metadata": {},
   "source": [
    "## Learning Goals\n",
    "\n",
    "By the end of this lab, you should be able to:\n",
    "- know how to implement the different types of plots such as histograms, boxplots, etc, that were mentioned in class.\n",
    "- have `seaborn` as well as `matplotlib` in your plotting toolbox.\n",
    "\n",
    "**This lab corresponds to lecture 6 up to 9 and maps to homework 3.**"
   ]
  },
  {
   "cell_type": "markdown",
   "metadata": {},
   "source": [
    "## Table of Contents\n",
    "\n",
    "* [1 - Visualization Inspiration](#inspire)\n",
    "\n",
    "* [2 - Intro to `seaborn` plotting](#seaborn)\n",
    "\n",
    "* [3 - Different types of plots (histograms, boxplots, etc)](#plots)\n",
    "\n",
    "* [4 - Excercise: EDA on Medical Data](#exercise)"
   ]
  },
  {
   "cell_type": "markdown",
   "metadata": {},
   "source": [
    "<a class=\"anchor\" id=\"inspire\"></a>\n",
    "## 1 - Visualization Inspiration\n",
    "\n",
    "![title](../images/WGOITG.jpg)\n",
    "\n",
    "[source: nytimes.org](https://www.nytimes.com/2018/08/27/learning/whats-going-on-in-this-graph-is-now-weekly-stem-teachers-explain-why-its-a-powerful-activity.html)\n",
    "\n",
    "Notice that in “Summers Are Getting Hotter,” above, the histogram has intervals for global summer temperatures on the x-axis, designated from extremely cold to extremely hot, and their frequency on the y-axis. \n",
    "\n",
    "That was an **infographic** intended for the general public. In contrast, take a look at the plots below of the same data published at a **scientific journal**. They look quite different, don't they?\n",
    "\n",
    "![title](../images/F4.jpeg)\n",
    "\n",
    "*James Hansen, Makiko Sato, and Reto Ruedy*, Perception of climate change. [PNAS](https://www.pnas.org/content/109/37/E2415.full#abstract-1)"
   ]
  },
  {
   "cell_type": "markdown",
   "metadata": {},
   "source": [
    "<a class=\"anchor\" id=\"seaborn\"></a>\n",
    "## 2 - Implementing Various Types of Plots using `matplotlib`  and `seaborn`.\n",
    "\n",
    "Before you start coding your visualization, you need to decide what **type** of vizualization to use. A box plot, a histogram, a scatter plot, or something else? That will depend on the purpose of the plot (is it for performing an inspection on your data (EDA, or for showing your results/conclusions to people) and the number variables that you want to plot.\n",
    "\n",
    "You have a lot of tools for plotting in Python. The basic one, of course, is `matplotlib` and there are other libraries that are built on top of it, such as `seaborn`, `bokeh`, or `altair`. \n",
    "\n",
    "In this class we will continue using `matplotlib` and also look into [`seaborn`](https://seaborn.pydata.org). Those two libraries are the ones you should be using for homework.\n",
    "\n",
    "### Introduction to `seaborn`\n",
    "\n",
    "`Seaborn` is a Python data visualization library based on matplotlib. It provides a high-level interface for drawing attractive and informative statistical graphics. The library provides a database of useful datasets for educational purposes that can be loaded by typing:\n",
    "\n",
    "```python\n",
    "seaborn.load_dataset(name, cache=True, data_home=None, **kws)\n",
    "```\n",
    "\n",
    "For information on what these datasets are : https://github.com/mwaskom/seaborn-data\n",
    "\n",
    "#### The plotting functions in `seaborn` can be decided in two categories\n",
    "\n",
    "- **'axes-level'** functions, such as `regplot`, `boxplot`, `kdeplot`, `scatterplot`, `distplot` which can connect with the `matplotlib` Axes object and its parameters. You can use that object as you would in `matplotlib`:\n",
    "```python\n",
    "f, (ax1, ax2) = plt.subplots(2)\n",
    "sns.regplot(x, y, ax=ax1)\n",
    "sns.kdeplot(x, ax=ax2)\n",
    "ax1 = sns.distplot(x, kde=False, bins=20)\n",
    "```\n",
    "\n",
    "- **'figure-level'** functions, such as `lmplot`, `factorplot`, `jointplot`, `relplot`. In this case, `seaborn` organizes the resulting plot which may include several Axes in a meaningful way. That means that the functions need to have total control over the figure, so it isn't possible to plot, say, an `lmplot` onto one that already exists. Calling the function always initializes a figure and sets it up for the specific plot it's drawing. These functions return an object of the type `FacetGrid` with its own methods for operating on the resulting plot.\n",
    "\n",
    "To set the parameters for figure-level functions:\n",
    "\n",
    "```python\n",
    "sns.set_context(\"notebook\", font_scale=1, rc={\"lines.linewidth\": 2.5})\n",
    "```"
   ]
  },
  {
   "cell_type": "markdown",
   "metadata": {},
   "source": [
    "### The Titanic dataset\n",
    "\n",
    "The `titanic.csv` file contains data for 887 passengers on the Titanic. Each row represents one person. The columns describe different attributes about the person including whether they survived, their age, their on-board class, their sex, and the fare they paid. "
   ]
  },
  {
   "cell_type": "code",
   "execution_count": null,
   "metadata": {},
   "outputs": [],
   "source": [
    "titanic = sns.load_dataset('titanic');\n",
    "titanic.info();"
   ]
  },
  {
   "cell_type": "code",
   "execution_count": null,
   "metadata": {},
   "outputs": [],
   "source": [
    "titanic.columns"
   ]
  },
  {
   "cell_type": "markdown",
   "metadata": {},
   "source": [
    "<div class='exercise'> <b> Exercise:  Drop the following features:</div>\n",
    "    \n",
    "'embarked', 'who', 'adult_male', 'embark_town', 'alive', 'alone' "
   ]
  },
  {
   "cell_type": "code",
   "execution_count": null,
   "metadata": {},
   "outputs": [],
   "source": [
    "# your code here\n"
   ]
  },
  {
   "cell_type": "markdown",
   "metadata": {},
   "source": [
    "<div class='exercise'> <b> Exercise:  Find for how many passengeres we do not have their deck information.</div>"
   ]
  },
  {
   "cell_type": "code",
   "execution_count": null,
   "metadata": {},
   "outputs": [],
   "source": [
    "# your code here\n"
   ]
  },
  {
   "cell_type": "markdown",
   "metadata": {},
   "source": [
    "### Histograms\n",
    "\n",
    "#### Plotting one variable's distribution (categorical and continous)\n",
    "The most convenient way to take a quick look at a univariate distribution in `seaborn` is the `distplot()` function. By default, this will draw a histogram and fit a kernel density estimate (KDE).\n",
    "\n",
    "A histogram displays a quantitative (numerical) distribution by showing the number (or percentage) of the data values that fall in specified intervals. The intervals are on the x-axis and the number of values falling in each interval, shown as either a number or percentage, are represented by bars drawn above the corresponding intervals."
   ]
  },
  {
   "cell_type": "code",
   "execution_count": null,
   "metadata": {},
   "outputs": [],
   "source": [
    "# What was the age distribution among passengers in the Titanic?\n",
    "import seaborn as sns\n",
    "sns.set(color_codes=True)\n",
    "\n",
    "f, ax = plt.subplots(1,1, figsize=(8, 3));\n",
    "ax = sns.distplot(titanic.age, kde=False, bins=20)\n",
    "\n",
    "# bug\n",
    "#ax = sns.distplot(titanic.age, kde=False, bins=20).set(xlim=(0, 90));\n",
    "\n",
    "ax.set(xlim=(0, 90));\n",
    "ax.set_ylabel('counts');"
   ]
  },
  {
   "cell_type": "code",
   "execution_count": null,
   "metadata": {},
   "outputs": [],
   "source": [
    "f, ax = plt.subplots(1,1, figsize=(8, 3))\n",
    "ax.hist(titanic.age, bins=20);\n",
    "ax.set_xlim(0,90);"
   ]
  },
  {
   "cell_type": "markdown",
   "metadata": {},
   "source": [
    "<div class='exercise'> <b> Exercise (pandas trick): Count all the infants on board (age less than 3) and all the children ages 5-10.</div>"
   ]
  },
  {
   "cell_type": "code",
   "execution_count": null,
   "metadata": {},
   "outputs": [],
   "source": [
    "# your code here\n",
    "infants = len(titanic[(titanic.age < 3)]) \n",
    "children = len(titanic[(titanic.age >= 3) & (titanic.age < 10)]) \n",
    "print(f'There were {infants} infants and {children} children on board the Titanic')"
   ]
  },
  {
   "cell_type": "markdown",
   "metadata": {},
   "source": [
    "**Pandas trick:** We want to creat virtual \"bins\" for readability and replace ranges of values with categories. \n",
    "\n",
    "We will do this in an ad hoc way, **it can be done better**. For example in the previous plot we could set:\n",
    "    \n",
    "- `(age<3) = 'infants'`, \n",
    "- `(3<age<18)='children'`, \n",
    "- `(18<values<90)='adults'` <BR>\n",
    "\n",
    "See matplotlib [colors](https://matplotlib.org/3.1.0/tutorials/colors/colormaps.html) here."
   ]
  },
  {
   "cell_type": "code",
   "execution_count": null,
   "metadata": {},
   "outputs": [],
   "source": [
    "# set the colors\n",
    "cmap = plt.get_cmap('Pastel1')\n",
    "young = cmap(0.5)\n",
    "middle = cmap(0.2)\n",
    "older = cmap(0.8)\n",
    "\n",
    "# get the object we will change - patches is an array with len: num of bins\n",
    "fig, ax = plt.subplots()\n",
    "y_values, bins, patches = ax.hist(titanic.age, 10)\n",
    "\n",
    "[patches[i].set_facecolor(young) for i in range(0,1)] # bin 0\n",
    "[patches[i].set_facecolor(middle) for i in range(1,3)] # bins 1 and 2\n",
    "[patches[i].set_facecolor(older) for i in range(3,10)] # 7 remaining bins \n",
    "\n",
    "ax.grid(True)\n",
    "fig.show()"
   ]
  },
  {
   "cell_type": "markdown",
   "metadata": {},
   "source": [
    "#### Kernel Density Estimation\n",
    "The kernel density estimate can be a useful tool for plotting the shape of a distribution. The **bandwidth (bw)** parameter of the KDE controls how tightly the estimation is fit to the data, much like the bin size in a histogram. It corresponds to the width of the kernels we plotted above. The default behavior tries to guess a good value using a common reference rule, but it may be helpful to try larger or smaller values."
   ]
  },
  {
   "cell_type": "code",
   "execution_count": null,
   "metadata": {},
   "outputs": [],
   "source": [
    "sns.kdeplot(titanic.age, bw=0.6, label=\"bw: 0.6\", shade=True, color=\"r\");\n",
    "sns.kdeplot(titanic.age, bw=2, label=\"bw: 2\", shade=True);"
   ]
  },
  {
   "cell_type": "markdown",
   "metadata": {},
   "source": [
    "<div class='exercise'> <b> Exercise:  Plot the distribution of fare paid by passengers </div>"
   ]
  },
  {
   "cell_type": "code",
   "execution_count": null,
   "metadata": {},
   "outputs": [],
   "source": [
    "# your code here\n",
    "sns.kdeplot(titanic.fare, bw=0.5, label=\"bw: 0.5\", shade=True);"
   ]
  },
  {
   "cell_type": "markdown",
   "metadata": {},
   "source": [
    "#### You can mix elements of `matplotlib` such as Axes with `seaborn` elements for a best use of both worlds."
   ]
  },
  {
   "cell_type": "code",
   "execution_count": null,
   "metadata": {
    "scrolled": true
   },
   "outputs": [],
   "source": [
    "import seaborn as sns\n",
    "sns.set(color_codes=True)\n",
    "\n",
    "x1 = np.random.normal(size=100)\n",
    "x2 = np.random.normal(size=100)\n",
    "\n",
    "fig, ax = plt.subplots(1,2, figsize=(15,5))\n",
    "\n",
    "# seaborn goes in first subplot\n",
    "sns.set(font_scale=0.5)\n",
    "sns.distplot(x1, kde=False, bins=15, ax=ax[0]);\n",
    "sns.distplot(x2, kde=False, bins=15, ax=ax[0]);\n",
    "ax[0].set_title('seaborn Graph Here', fontsize=14)\n",
    "ax[0].set_xlabel(r'$x$', fontsize=14)\n",
    "ax[0].set_ylabel(r'$count$', fontsize=14)\n",
    "\n",
    "# matplotlib goes in second subplot\n",
    "ax[1].hist(x1, alpha=0.2, bins=15, label=r'$x1$');\n",
    "ax[1].hist(x2, alpha=0.5, bins=15, label=r'$x2$');\n",
    "ax[1].set_xlabel(r'$x$', fontsize=14)\n",
    "ax[1].set_ylabel(r'$count$', fontsize=14)\n",
    "ax[1].set_title('matplotlib Graph Here', fontsize=14)\n",
    "ax[1].legend(loc='best', fontsize=14);"
   ]
  },
  {
   "cell_type": "markdown",
   "metadata": {},
   "source": [
    "#### Introduding the heart disease dataset. \n",
    "\n",
    "More on this in the in-class exercise at the end of the notebook. "
   ]
  },
  {
   "cell_type": "code",
   "execution_count": null,
   "metadata": {},
   "outputs": [],
   "source": [
    "columns = [\"age\", \"sex\", \"cp\", \"restbp\", \"chol\", \"fbs\", \"restecg\", \n",
    "           \"thalach\", \"exang\", \"oldpeak\", \"slope\", \"ca\", \"thal\", \"num\"]\n",
    "heart_df = pd.read_csv('../data/heart_disease.csv', header=None, names=columns)\n",
    "\n",
    "heart_df.head()"
   ]
  },
  {
   "cell_type": "markdown",
   "metadata": {},
   "source": [
    "### Boxplots\n",
    "\n",
    "#### One variable."
   ]
  },
  {
   "cell_type": "code",
   "execution_count": null,
   "metadata": {},
   "outputs": [],
   "source": [
    "# seaborn\n",
    "ax = sns.boxplot(x='age', data=titanic)\n",
    "#ax = sns.boxplot(x=titanic['age']) # another way to write this\n",
    "ax.set_ylabel(None);\n",
    "ax.set_xlabel('age', fontsize=14);\n",
    "ax.set_title('Distribution of age in the Titanic', fontsize=14);"
   ]
  },
  {
   "cell_type": "markdown",
   "metadata": {},
   "source": [
    "#### Two variables"
   ]
  },
  {
   "cell_type": "markdown",
   "metadata": {},
   "source": [
    "<div class='exercise'> <b> Exercise:  Did more young people or older ones get first class tickets on the Titanic?</div>"
   ]
  },
  {
   "cell_type": "code",
   "execution_count": null,
   "metadata": {},
   "outputs": [],
   "source": [
    "# your code here\n",
    "# two variables seaborn\n"
   ]
  },
  {
   "cell_type": "code",
   "execution_count": null,
   "metadata": {},
   "outputs": [],
   "source": [
    "# two variable boxplot in pandas\n"
   ]
  },
  {
   "cell_type": "markdown",
   "metadata": {},
   "source": [
    "### Scatterplots\n",
    "\n",
    "#### Plotting the distribution of two variables\n",
    "\n",
    "Also called a bivariate distribution where each observation is shown with  a point with x and y values. You can draw a scatterplot with the `matplotlib plt.scatter` function, or the `seaborn jointplot()` function:"
   ]
  },
  {
   "cell_type": "code",
   "execution_count": null,
   "metadata": {},
   "outputs": [],
   "source": [
    "f, ax = plt.subplots(1,1, figsize=(10, 5))\n",
    "sns.scatterplot(x=\"fare\", y=\"age\", data=titanic, ax=ax); "
   ]
  },
  {
   "cell_type": "code",
   "execution_count": null,
   "metadata": {},
   "outputs": [],
   "source": [
    "sns.jointplot(\"fare\", \"age\", data=titanic, s=40, edgecolor=\"w\", linewidth=1)"
   ]
  },
  {
   "cell_type": "markdown",
   "metadata": {},
   "source": [
    "You may control the `seaborn` [Figure aesthetics](https://seaborn.pydata.org/tutorial/aesthetics.html)."
   ]
  },
  {
   "cell_type": "code",
   "execution_count": null,
   "metadata": {},
   "outputs": [],
   "source": [
    "# matplotlib\n",
    "fig, ax = plt.subplots(1,1, figsize=(10,6))\n",
    "ax.scatter(heart_df['age'], heart_df['restbp'], alpha=0.8);\n",
    "ax.set_xlabel(r'$Age (yrs)$', fontsize=15);\n",
    "ax.set_ylabel(r'Resting Blood Pressure (mmHg)', fontsize=15);\n",
    "ax.set_title('Age vs. Resting Blood Pressure', fontsize=14)\n",
    "plt.show();"
   ]
  },
  {
   "cell_type": "markdown",
   "metadata": {},
   "source": [
    "#### Plotting the distribution of three variables"
   ]
  },
  {
   "cell_type": "code",
   "execution_count": null,
   "metadata": {},
   "outputs": [],
   "source": [
    "f, ax = plt.subplots(1,1, figsize=(10, 5))\n",
    "sns.scatterplot(x=\"fare\", y=\"age\", hue=\"survived\", data=titanic, ax=ax);"
   ]
  },
  {
   "cell_type": "markdown",
   "metadata": {},
   "source": [
    "#### Plotting the distribution of four variables (going too far?)"
   ]
  },
  {
   "cell_type": "markdown",
   "metadata": {},
   "source": [
    "<div class='exercise'> <b> Exercise:  Plot the distribution of fare paid by passengers according to age, survival and sex. </div>\n",
    "    \n",
    "Use `size=` for the fourth variable"
   ]
  },
  {
   "cell_type": "code",
   "execution_count": null,
   "metadata": {},
   "outputs": [],
   "source": [
    "# your code here\n"
   ]
  },
  {
   "cell_type": "markdown",
   "metadata": {},
   "source": [
    "### Pairplots"
   ]
  },
  {
   "cell_type": "code",
   "execution_count": null,
   "metadata": {},
   "outputs": [],
   "source": [
    "titanic.columns"
   ]
  },
  {
   "cell_type": "code",
   "execution_count": null,
   "metadata": {},
   "outputs": [],
   "source": [
    "to_plot = ['age', 'fare', 'survived', 'deck']"
   ]
  },
  {
   "cell_type": "code",
   "execution_count": null,
   "metadata": {},
   "outputs": [],
   "source": [
    "df_to_plot = titanic.loc[:,to_plot]\n",
    "sns.pairplot(df_to_plot);"
   ]
  },
  {
   "cell_type": "code",
   "execution_count": null,
   "metadata": {},
   "outputs": [],
   "source": [
    "from pandas.plotting import scatter_matrix\n",
    "scatter_matrix(df_to_plot, alpha=0.8, figsize=(10, 10), diagonal='kde');"
   ]
  },
  {
   "cell_type": "markdown",
   "metadata": {},
   "source": [
    "### Plotting Categorical Variables"
   ]
  },
  {
   "cell_type": "code",
   "execution_count": null,
   "metadata": {},
   "outputs": [],
   "source": [
    "titanic = sns.load_dataset('titanic')\n",
    "f, ax = plt.subplots(figsize=(7, 3));\n",
    "ax = sns.countplot(y=\"deck\", data=titanic, color=\"c\");\n",
    "ax.set_title('Titanic');"
   ]
  },
  {
   "cell_type": "code",
   "execution_count": null,
   "metadata": {},
   "outputs": [],
   "source": [
    "ax = sns.countplot(x=\"class\", data=titanic)\n",
    "ax.set_title('Titanic');"
   ]
  },
  {
   "cell_type": "code",
   "execution_count": null,
   "metadata": {},
   "outputs": [],
   "source": [
    "fig, ax = plt.subplots(figsize=(10,6)) # Create figure object\n",
    "sns.set_context(\"notebook\", font_scale=1, rc={\"lines.linewidth\": 2.5})\n",
    "ax = sns.countplot(x=\"deck\", data=titanic)"
   ]
  },
  {
   "cell_type": "code",
   "execution_count": null,
   "metadata": {},
   "outputs": [],
   "source": [
    "sns.set(style=\"ticks\", palette=\"muted\")\n",
    "sns.relplot(x=\"age\", y=\"deck\", col=\"class\", data=titanic);"
   ]
  },
  {
   "cell_type": "code",
   "execution_count": null,
   "metadata": {},
   "outputs": [],
   "source": [
    "sns.set_context(\"notebook\", font_scale=1.5, rc={\"lines.linewidth\": 2.5})\n",
    "sns.pairplot(data=titanic, hue=\"deck\");"
   ]
  },
  {
   "cell_type": "markdown",
   "metadata": {},
   "source": [
    "### Introduction to `pandas` plotting.\n",
    "\n",
    "There is plotting functionality built in `pandas`. Look for it in the `pandas` \"encyclopedia\", a mere 2883-page pdf from the creator Wes McKinney: [pandas documentation (pdf)](https://pandas.pydata.org/pandas-docs/stable/pandas.pdf) \n",
    "\n",
    "**Example:** The `value_counts()` Series method and top-level function computes a histogram of a 1D array of values. It can\n",
    "also be used as a function on regular arrays.\n",
    "\n",
    "Reminder: DataFrame: “index” (axis=0, default), “columns” (axis=1) "
   ]
  },
  {
   "cell_type": "markdown",
   "metadata": {},
   "source": [
    "### Line Graph\n",
    "\n",
    "#### Good for time dependency or when a variable evolves"
   ]
  },
  {
   "cell_type": "code",
   "execution_count": null,
   "metadata": {},
   "outputs": [],
   "source": [
    "df = pd.DataFrame(np.random.randn(1000, 4), columns=['A', 'B', 'C', 'D'])\n",
    "df.head()"
   ]
  },
  {
   "cell_type": "code",
   "execution_count": null,
   "metadata": {},
   "outputs": [],
   "source": [
    "# cumulative sum adds column values as it goes\n",
    "df = df.cumsum()\n",
    "df.head()"
   ]
  },
  {
   "cell_type": "code",
   "execution_count": null,
   "metadata": {},
   "outputs": [],
   "source": [
    "plt.figure();\n",
    "df.plot();\n",
    "plt.legend(loc='best');"
   ]
  },
  {
   "cell_type": "code",
   "execution_count": null,
   "metadata": {},
   "outputs": [],
   "source": [
    "ts = pd.Series(np.random.randn(1000),\n",
    "               index=pd.date_range('1/1/2000', periods=1000))\n",
    "df = pd.DataFrame(np.random.randn(1000, 4), \n",
    "                  index=ts.index, columns=list('ABCD'))\n",
    "\n",
    "df = df.cumsum()\n",
    "plt.figure();\n",
    "df.plot();"
   ]
  },
  {
   "cell_type": "markdown",
   "metadata": {},
   "source": [
    "Plotting methods allow for a handful of plot styles other than the default line plot. These methods can be provided as the kind keyword argument to plot(), and include:\n",
    "\n",
    "- ‘bar’ or ‘barh’ for bar plots\n",
    "- ‘hist’ for histogram\n",
    "- ‘box’ for boxplot\n",
    "- ‘kde’ or ‘density’ for density plots\n",
    "- ‘area’ for area plots\n",
    "- ‘scatter’ for scatter plots\n",
    "- ‘hexbin’ for hexagonal bin plots\n",
    "- ‘pie’ for pie plots\n",
    "\n",
    "In addition to these kind s, there are the `DataFrame.hist()`, and `DataFrame.boxplot()` methods, which use a separate interface. `scatter_matrix` in pandas.plotting takes a Series or DataFrame as an argument."
   ]
  },
  {
   "cell_type": "markdown",
   "metadata": {},
   "source": [
    "### Bar Plots"
   ]
  },
  {
   "cell_type": "code",
   "execution_count": null,
   "metadata": {},
   "outputs": [],
   "source": [
    "plt.figure();\n",
    "df.iloc[0].plot(kind='bar');"
   ]
  },
  {
   "cell_type": "code",
   "execution_count": null,
   "metadata": {},
   "outputs": [],
   "source": [
    "df2 = pd.DataFrame(np.random.rand(10, 4), columns=['a', 'b', 'c', 'd'])\n",
    "df2"
   ]
  },
  {
   "cell_type": "code",
   "execution_count": null,
   "metadata": {},
   "outputs": [],
   "source": [
    "df2.plot.bar();"
   ]
  },
  {
   "cell_type": "code",
   "execution_count": null,
   "metadata": {},
   "outputs": [],
   "source": [
    "# horizontal bar plot\n",
    "df2.plot.barh(stacked=False);"
   ]
  },
  {
   "cell_type": "markdown",
   "metadata": {},
   "source": [
    "### Histograms"
   ]
  },
  {
   "cell_type": "code",
   "execution_count": null,
   "metadata": {},
   "outputs": [],
   "source": [
    "df4 = pd.DataFrame({'a': np.random.randn(1000) + 1, 'b': np.random.randn(1000), \n",
    "                    'c': np.random.randn(1000) - 1}, columns=['a', 'b', 'c'])\n",
    "\n",
    "plt.figure();\n",
    "df4.plot.hist(alpha=0.5, stacked=False, bins=60);"
   ]
  },
  {
   "cell_type": "markdown",
   "metadata": {},
   "source": [
    "### Boxplots"
   ]
  },
  {
   "cell_type": "code",
   "execution_count": null,
   "metadata": {},
   "outputs": [],
   "source": [
    "color = {'boxes': 'DarkGreen', 'whiskers': 'DarkOrange',\n",
    "         'medians': 'DarkBlue', 'caps': 'Gray'}\n",
    "\n",
    "df = pd.DataFrame(np.random.rand(10, 5), columns=['A', 'B', 'C', 'D', 'E'])\n",
    "df.plot.box(color=color );"
   ]
  },
  {
   "cell_type": "markdown",
   "metadata": {},
   "source": [
    "### Area plots\n",
    "\n",
    "You can create area plots with `Series.plot.area()` and `DataFrame.plot.area()`. Area plots are stacked\n",
    "by default. To produce stacked area plot, each column must be either all positive or all negative values."
   ]
  },
  {
   "cell_type": "code",
   "execution_count": null,
   "metadata": {},
   "outputs": [],
   "source": [
    "df = pd.DataFrame(np.random.rand(10, 4), columns=['a', 'b', 'c', 'd'])\n",
    "df.plot.area(stacked=True);"
   ]
  },
  {
   "cell_type": "code",
   "execution_count": null,
   "metadata": {},
   "outputs": [],
   "source": [
    "df.plot.area(stacked=False);"
   ]
  },
  {
   "cell_type": "markdown",
   "metadata": {},
   "source": [
    "### Scatterplot\n",
    "\n",
    "Scatter plot can be drawn by using the DataFrame.plot.scatter() method. Scatter plot requires numeric\n",
    "columns for the x and y axes. These can be specified by the x and y keywords."
   ]
  },
  {
   "cell_type": "code",
   "execution_count": null,
   "metadata": {},
   "outputs": [],
   "source": [
    "ax = df.plot.scatter(x='a', y='b', color='DarkBlue', label='Group 1');\n",
    "df.plot.scatter(x='c', y='d', color='DarkGreen', label='Group 2', ax=ax);"
   ]
  },
  {
   "cell_type": "markdown",
   "metadata": {},
   "source": [
    "### `pandas` Tricks\n",
    "\n",
    "The copy() method on pandas objects copies the underlying data (though not the axis indexes, since they are immutable)\n",
    "and returns a new object. Note that it is seldom necessary to copy objects. For example, there are only a\n",
    "handful of ways to alter a DataFrame in-place:\n",
    "\n",
    "- Inserting, deleting, or modifying a column.\n",
    "- Assigning to the index or columns attributes.\n",
    "- For homogeneous data, directly modifying the values via the values attribute or advanced indexing.\n",
    "\n",
    "To be clear, no pandas method has the side effect of modifying your data; almost every method returns a new object,\n",
    "leaving the original object untouched. If the data is modified, it is because you did so explicitly"
   ]
  },
  {
   "cell_type": "markdown",
   "metadata": {},
   "source": [
    "<a class=\"anchor\" id=\"#exercise\"></a>\n",
    "## 4 - Group Exercise: 1/2 hour in the Life of a Cardiologist \n",
    "\n",
    "Try each exercise on your own and then discuss with your peers sitting at your table. Feel free to engage the TFs and instructors as well. \n",
    "\n",
    "Visualize and explore the data. Use `.describe()` to look at your data and also examine if you have any missing values. <BR> \n",
    "What is the actual number of feature variables after converting categorical variables to dummy ones?<BR><BR>\n",
    "**List of available variables (includes target variable `num`):**\n",
    "\n",
    "- **age**: continuous\n",
    "- **sex**: categorical, 2 values {0: female, 1: male}\n",
    "- **cp** (chest pain type): categorical, 4 values\n",
    "    {1: typical angina, 2: atypical angina, 3: non-angina, 4: asymptomatic angina}\n",
    "- **restbp** (resting blood pressure on admission to hospital): continuous (mmHg)\n",
    "- **chol (serum cholesterol level)**: continuous (mg/dl)\n",
    "- **fbs** (fasting blood sugar): categorical, 2 values {0: <= 120 mg/dl, 1: > 120 mg/dl}\n",
    "- **restecg** (resting electrocardiography): categorical, 3 values\n",
    "    {0: normal, 1: ST-T wave abnormality, 2: left ventricular hypertrophy}\n",
    "- **thalach** (maximum heart rate achieved): continuous\n",
    "- **exang** (exercise induced angina): categorical, 2 values {0: no, 1: yes}\n",
    "- **oldpeak** (ST depression induced by exercise relative to rest): continuous\n",
    "- **slope** (slope of peak exercise ST segment): categorical, 3 values \n",
    "    {1: upsloping, 2: flat, 3: downsloping}\n",
    "- **ca** (number of major vessels colored by fluoroscopy): discrete (0,1,2,3)\n",
    "- **thal**: categorical, 3 values {3: normal, 6: fixed defect, 7: reversible defect}\n",
    "- **num** (diagnosis of heart disease): categorical, 5 values \n",
    "    {0: less than 50% narrowing in any major vessel, \n",
    "    1-4: more than 50% narrowing in 1-4 vessels}"
   ]
  },
  {
   "cell_type": "code",
   "execution_count": null,
   "metadata": {},
   "outputs": [],
   "source": [
    "# load the dataset\n",
    "heart_df = pd.read_csv('../data/heart_disease.csv', header=None, names=columns)\n",
    "heart_df.head()"
   ]
  },
  {
   "cell_type": "markdown",
   "metadata": {},
   "source": [
    "### Answer the following question using plots\n",
    "\n",
    "01. At what ages do people seek cardiological exams? \n",
    "02. Do men seek help more than women? \n",
    "03. Examine the variables. How do they relate to one another?\n",
    "04. (Variation on 02): What % of men and women seek cardio exams? \n",
    "05. Does resting blood pressure increase with age?"
   ]
  },
  {
   "cell_type": "markdown",
   "metadata": {},
   "source": [
    "**Pandas trick: `.replace`** The response variable (num) is categorical with 5 values, but we don't have enough data to predict all the categories. <BR> Therefore we'll replace `num` with `hd` (heart disease): **categorical, 2 values {0: no, 1: yes}**. <BR>\n",
    "Use the code below (take a minute to understand how it works, it's very useful!):"
   ]
  },
  {
   "cell_type": "code",
   "execution_count": null,
   "metadata": {},
   "outputs": [],
   "source": [
    "# Replace response variable values with a binary response (1: heart disease(hd) or 0: not)\n",
    "heart_df['num'].replace(to_replace=[1,2,3,4],value=1,inplace=True)\n",
    "\n",
    "# Rename column for clarity\n",
    "heart_df = heart_df.rename(columns = {'num':'hd'})\n",
    "heart_df.head()"
   ]
  },
  {
   "cell_type": "code",
   "execution_count": null,
   "metadata": {},
   "outputs": [],
   "source": [
    "# look at the features\n",
    "heart_df.info();"
   ]
  },
  {
   "cell_type": "code",
   "execution_count": null,
   "metadata": {},
   "outputs": [],
   "source": [
    "heart_df.describe()"
   ]
  },
  {
   "cell_type": "markdown",
   "metadata": {},
   "source": [
    "At this point you should split in train and test set and work only on the **train!!**. For simplicity we will not do this in the solutions."
   ]
  },
  {
   "cell_type": "code",
   "execution_count": null,
   "metadata": {},
   "outputs": [],
   "source": [
    "# your code here\n",
    "# 01. what ages do people seek cardiological exams? \n"
   ]
  },
  {
   "cell_type": "code",
   "execution_count": null,
   "metadata": {},
   "outputs": [],
   "source": [
    "# %load solutions/q01.py"
   ]
  },
  {
   "cell_type": "code",
   "execution_count": null,
   "metadata": {},
   "outputs": [],
   "source": [
    "# your code here\n",
    "# 02. do men seek help more than women?\n"
   ]
  },
  {
   "cell_type": "code",
   "execution_count": null,
   "metadata": {},
   "outputs": [],
   "source": [
    "# %load solutions/q02.py"
   ]
  },
  {
   "cell_type": "code",
   "execution_count": null,
   "metadata": {},
   "outputs": [],
   "source": [
    "# your code here\n",
    "# 03. Examine the variables. How do they relate to one another?\n"
   ]
  },
  {
   "cell_type": "code",
   "execution_count": null,
   "metadata": {},
   "outputs": [],
   "source": [
    "# %load solutions/q03.py"
   ]
  },
  {
   "cell_type": "code",
   "execution_count": null,
   "metadata": {},
   "outputs": [],
   "source": [
    "# your code here\n",
    "# 04. What percentage of men and women seek cardio exams? \n"
   ]
  },
  {
   "cell_type": "code",
   "execution_count": null,
   "metadata": {},
   "outputs": [],
   "source": [
    "# %load solutions/q04.py"
   ]
  },
  {
   "cell_type": "code",
   "execution_count": null,
   "metadata": {},
   "outputs": [],
   "source": [
    "# your code here\n",
    "# 05. Does resting blood pressure increase with age?\n"
   ]
  },
  {
   "cell_type": "code",
   "execution_count": null,
   "metadata": {},
   "outputs": [],
   "source": [
    "# %load solutions/q05.py"
   ]
  },
  {
   "cell_type": "markdown",
   "metadata": {},
   "source": [
    "## Bonus: Find the hidden pattern\n",
    "\n",
    "Read the following file into a `pandas` Dataframe: '../data/mystery.csv' and plot it.  How does it look? You should see a beautiful pattern. If not, think of ways to fix the issue."
   ]
  },
  {
   "cell_type": "code",
   "execution_count": null,
   "metadata": {
    "scrolled": false
   },
   "outputs": [],
   "source": [
    "mystery = pd.read_csv('../data/mystery.csv',  sep=' ', header=None) \n",
    "mystery.head()"
   ]
  },
  {
   "cell_type": "code",
   "execution_count": null,
   "metadata": {},
   "outputs": [],
   "source": [
    "# your code here"
   ]
  },
  {
   "cell_type": "code",
   "execution_count": null,
   "metadata": {},
   "outputs": [],
   "source": [
    "# %load solutions/mystery.py"
   ]
  }
 ],
 "metadata": {
  "anaconda-cloud": {},
  "kernelspec": {
   "display_name": "Python 3",
   "language": "python",
   "name": "python3"
  },
  "language_info": {
   "codemirror_mode": {
    "name": "ipython",
    "version": 3
   },
   "file_extension": ".py",
   "mimetype": "text/x-python",
   "name": "python",
   "nbconvert_exporter": "python",
   "pygments_lexer": "ipython3",
   "version": "3.6.9"
  }
 },
 "nbformat": 4,
 "nbformat_minor": 1
}

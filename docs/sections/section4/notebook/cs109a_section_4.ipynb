{
 "cells": [
  {
   "cell_type": "markdown",
   "metadata": {},
   "source": [
    "# <img style=\"float: left; padding-right: 10px; width: 45px\" src=\"https://raw.githubusercontent.com/Harvard-IACS/2018-CS109A/master/content/styles/iacs.png\"> CS109A Introduction to Data Science \n",
    "\n",
    "## Standard Section 4: Regularization and Model Selection\n",
    "\n",
    "**Harvard University**<br/>\n",
    "**Fall 2019**<br/>\n",
    "**Instructors**: Pavlos Protopapas, Kevin Rader, and Chris Tanner<br/>\n",
    "**Section Leaders**: Marios Mattheakis, Abhimanyu (Abhi) Vasishth, Robbert (Rob) Struyven<br/>\n",
    "\n",
    "<hr style='height:2px'>"
   ]
  },
  {
   "cell_type": "code",
   "execution_count": null,
   "metadata": {},
   "outputs": [],
   "source": [
    "#RUN THIS CELL \n",
    "import requests\n",
    "from IPython.core.display import HTML\n",
    "styles = requests.get(\"http://raw.githubusercontent.com/Harvard-IACS/2018-CS109A/master/content/styles/cs109.css\").text\n",
    "HTML(styles)"
   ]
  },
  {
   "cell_type": "markdown",
   "metadata": {},
   "source": [
    "For this section, our goal is to get you familiarized with Regularization in Multiple Linear Regression and to start thinking about Model and Hyper-Parameter Selection. \n",
    "\n",
    "Specifically, we will:\n",
    "\n",
    "- Load in the King County House Price Dataset\n",
    "- Perform some basic EDA\n",
    "- Split the data up into a training, **validation**, and test set (we'll see why we need a validation set)\n",
    "- Scale the variables (by standardizing them) and seeing why we need to do this\n",
    "- Make our multiple & polynomial regression models (like we did in the previous section)\n",
    "- Learn what **regularization** is and how it can help\n",
    "- Understand **ridge** and **lasso** regression\n",
    "- Get an introduction to **cross-validation** using RidgeCV and LassoCV"
   ]
  },
  {
   "cell_type": "markdown",
   "metadata": {},
   "source": [
    "<img src=\"../fig/meme.png\" width=\"400\">"
   ]
  },
  {
   "cell_type": "code",
   "execution_count": null,
   "metadata": {},
   "outputs": [],
   "source": [
    "# Data and Stats packages\n",
    "import numpy as np\n",
    "import pandas as pd\n",
    "pd.set_option('max_columns', 200)\n",
    "\n",
    "# Visualization packages\n",
    "import matplotlib.pyplot as plt\n",
    "import seaborn as sns\n",
    "sns.set()\n",
    "\n",
    "import warnings\n",
    "warnings.filterwarnings(\"ignore\")"
   ]
  },
  {
   "cell_type": "markdown",
   "metadata": {},
   "source": [
    "# EDA: House Prices Data From Kaggle\n",
    "\n",
    "For our dataset, we'll be using the house price dataset from [King County, WA](https://en.wikipedia.org/wiki/King_County,_Washington). The dataset is from [Kaggle](https://www.kaggle.com/harlfoxem/housesalesprediction). \n",
    "\n",
    "The task is to build a regression model to **predict the price**, based on different attributes. First, let's do some EDA."
   ]
  },
  {
   "cell_type": "code",
   "execution_count": null,
   "metadata": {},
   "outputs": [],
   "source": [
    "# Load the dataset \n",
    "house_df = pd.read_csv('../data/kc_house_data.csv')\n",
    "house_df = house_df.sample(frac=1, random_state=42)[0:4000]\n",
    "print(house_df.shape)\n",
    "print(house_df.dtypes)\n",
    "house_df.head()"
   ]
  },
  {
   "cell_type": "markdown",
   "metadata": {},
   "source": [
    "Now let's check for null values and look at the datatypes within the dataset."
   ]
  },
  {
   "cell_type": "code",
   "execution_count": null,
   "metadata": {},
   "outputs": [],
   "source": [
    "house_df.info()"
   ]
  },
  {
   "cell_type": "code",
   "execution_count": null,
   "metadata": {},
   "outputs": [],
   "source": [
    "house_df.describe()"
   ]
  },
  {
   "cell_type": "markdown",
   "metadata": {},
   "source": [
    "Let's choose a subset of columns here. **NOTE**: The way I'm selecting columns here is not principled and is just for convenience. In your homework assignments (and in real life), we expect you to choose columns more rigorously.\n",
    "\n",
    "1. `bedrooms`\n",
    "2. `bathrooms`\n",
    "3. `sqft_living`\n",
    "4. `sqft_lot`\n",
    "5. `floors`\n",
    "6. `sqft_above`\n",
    "7. `sqft_basement`\n",
    "8. `lat`\n",
    "9. `long`\n",
    "10. **`price`**: Our response variable"
   ]
  },
  {
   "cell_type": "code",
   "execution_count": null,
   "metadata": {},
   "outputs": [],
   "source": [
    "cols_of_interest = ['bedrooms', 'bathrooms', 'sqft_living', 'sqft_lot', 'floors', 'sqft_above', 'sqft_basement',\n",
    "                    'lat', 'long', 'price']\n",
    "house_df = house_df[cols_of_interest]\n",
    "\n",
    "# Convert house price to 1000s of dollars\n",
    "house_df['price'] = house_df['price']/1000"
   ]
  },
  {
   "cell_type": "markdown",
   "metadata": {},
   "source": [
    "Let's see how the response variable (`price`) is distributed"
   ]
  },
  {
   "cell_type": "code",
   "execution_count": null,
   "metadata": {},
   "outputs": [],
   "source": [
    "fig, ax = plt.subplots(figsize=(12,5))\n",
    "ax.hist(house_df['price'], bins=100)\n",
    "ax.set_title('Histogram of house price (in 1000s of dollars)');"
   ]
  },
  {
   "cell_type": "code",
   "execution_count": null,
   "metadata": {},
   "outputs": [],
   "source": [
    "# This takes a bit of time but is worth it!!\n",
    "# sns.pairplot(house_df);"
   ]
  },
  {
   "cell_type": "markdown",
   "metadata": {},
   "source": [
    "## Train-Validation-Test Split\n",
    "\n",
    "Up until this point, we have only had a train-test split. Why are we introducing a validation set? What's the point?\n",
    "\n",
    "This is the general idea: \n",
    "\n",
    "1. **Training Set**: Data you have seen. You train different types of models with various different hyper-parameters and regularization parameters on this data. \n",
    "\n",
    "\n",
    "2. **Validation Set**: Used to compare different models. We use this step to tune our hyper-parameters i.e. find the optimal set of hyper-parameters (such as $k$ for k-NN or our $\\beta_i$ values or number of degrees of our polynomial for linear regression). Pick your best model here. \n",
    "\n",
    "\n",
    "\n",
    "3. **Test Set**: Using the best model from the previous step, simply report the score e.g. R^2 score, MSE or any metric that you care about, of that model on your test set. **DON'T TUNE YOUR PARAMETERS HERE!**. Why, I hear you ask? Because we want to know how our model might do on data it hasn't seen before. We don't have access to this data (because it may not exist yet) but the test set, which we haven't seen or touched so far, is a good way to mimic this new data. \n",
    "\n",
    "Let's do 60% train, 20% validation, 20% test for this dataset."
   ]
  },
  {
   "cell_type": "code",
   "execution_count": null,
   "metadata": {},
   "outputs": [],
   "source": [
    "from sklearn.model_selection import train_test_split\n",
    "\n",
    "# first split the data into a train-test split and don't touch the test set yet\n",
    "train_df, test_df = train_test_split(house_df, test_size=0.2, random_state=42)\n",
    "\n",
    "# next, split the training set into a train-validation split\n",
    "# the test-size is 0.25 since we are splitting 80% of the data into 20% and 60% overall\n",
    "train_df, val_df = train_test_split(train_df, test_size=0.25, random_state=42)\n",
    "\n",
    "print('Train Set: {0:0.2f}%'.format(100*train_df.size/house_df.size))\n",
    "print('Validation Set: {0:0.2f}%'.format(100*val_df.size/house_df.size))\n",
    "print('Test Set: {0:0.2f}%'.format(100*test_df.size/house_df.size))"
   ]
  },
  {
   "cell_type": "markdown",
   "metadata": {},
   "source": [
    "# Modeling\n",
    "\n",
    "In the [last section](https://github.com/Harvard-IACS/2019-CS109A/tree/master/content/sections/section3), we went over the mechanics of Multiple Linear Regression and created models that had interaction terms and polynomial terms. Specifically, we dealt with the following sorts of models. \n",
    "\n",
    "$$\n",
    "y = \\beta_0 + \\beta_1 x_1 + \\beta_2 x_2 + \\dots + \\beta_M x_M\n",
    "$$\n",
    "\n",
    "Let's adopt a similar process here and get a few different models."
   ]
  },
  {
   "cell_type": "markdown",
   "metadata": {},
   "source": [
    "## Creating a Design Matrix"
   ]
  },
  {
   "cell_type": "markdown",
   "metadata": {},
   "source": [
    "From our model setup in the equation in the previous section, we obtain the following: \n",
    "\n",
    "$$\n",
    "Y = \\begin{bmatrix}\n",
    "y_1 \\\\\n",
    "y_2 \\\\\n",
    "\\vdots \\\\\n",
    "y_n\n",
    "\\end{bmatrix}, \\quad X = \\begin{bmatrix}\n",
    "x_{1,1} & x_{1,2} & \\dots & x_{1,M} \\\\\n",
    "x_{2,1} & x_{2,2} & \\dots & x_{2,M} \\\\\n",
    "\\vdots & \\vdots & \\ddots & \\vdots \\\\\n",
    "x_{n,1} & x_{n,2} & \\dots & x_{n,M} \\\\\n",
    "\\end{bmatrix}, \\quad \\beta = \\begin{bmatrix}\n",
    "\\beta_1 \\\\\n",
    "\\beta_2 \\\\\n",
    "\\vdots \\\\\n",
    "\\beta_M\n",
    "\\end{bmatrix}, \\quad \\epsilon = \\begin{bmatrix}\n",
    "\\epsilon_1 \\\\\n",
    "\\epsilon_2 \\\\\n",
    "\\vdots \\\\\n",
    "\\epsilon_n\n",
    "\\end{bmatrix},\n",
    "$$\n",
    "\n",
    "$X$ is an n$\\times$M matrix: this is our **design matrix**, $\\beta$ is an M-dimensional vector (an M$\\times$1 matrix), and $Y$ is an n-dimensional vector (an n$\\times$1 matrix). In addition, we know that $\\epsilon$ is an n-dimensional vector (an n$\\times$1 matrix)."
   ]
  },
  {
   "cell_type": "code",
   "execution_count": null,
   "metadata": {},
   "outputs": [],
   "source": [
    "X = train_df[cols_of_interest]\n",
    "y = train_df['price']\n",
    "print(X.shape)\n",
    "print(y.shape)"
   ]
  },
  {
   "cell_type": "markdown",
   "metadata": {},
   "source": [
    "## Scaling our Design Matrix\n",
    "\n",
    "### Warm-Up Exercise\n",
    "\n",
    "Warm-Up Exercise: for which of the following do the units of the predictors matter (e.g., trip length in minutes vs seconds; temperature in F or C)? A similar question would be: for which of these models do the magnitudes of values taken by different predictors matter? \n",
    "\n",
    "(We will go over Ridge and Lasso Regression in greater detail later)\n",
    "\n",
    "- k-NN (Nearest Neighbors regression)\n",
    "- Linear regression\n",
    "- Lasso regression\n",
    "- Ridge regression\n",
    "\n",
    "**Solutions**\n",
    "\n",
    "- kNN: **yes**. Scaling affects distance metric, which determines what \"neighbor\" means\n",
    "- Linear regression: **no**. Multiply predictor by $c$ -> divide coef by $c$.\n",
    "- Lasso: **yes**: If we divided coef by $c$, then corresponding penalty term is also divided by $c$.\n",
    "- Ridge: **yes**: Same as Lasso, except penalty divided by $c^2$.\n",
    "\n",
    "### Standard Scaler (Standardization)\n",
    " \n",
    "[Here's](https://scikit-learn.org/stable/modules/generated/sklearn.preprocessing.StandardScaler.html) the scikit-learn implementation of the standard scaler. What is it doing though? Hint: you may have seen this in STAT 110 or another statistics course multiple times.\n",
    "\n",
    "$$\n",
    "z = \\frac{x-\\mu}{\\sigma}\n",
    "$$\n",
    "\n",
    "In the above setup: \n",
    "\n",
    "- $z$ is the standardized variable\n",
    "- $x$ is the variable before standardization\n",
    "- $\\mu$ is the mean of the variable before standardization\n",
    "- $\\sigma$ is the standard deviation of the variable before standardization\n",
    "\n",
    "Let's see an example of how this works:"
   ]
  },
  {
   "cell_type": "code",
   "execution_count": null,
   "metadata": {},
   "outputs": [],
   "source": [
    "from sklearn.preprocessing import StandardScaler\n",
    "\n",
    "x = house_df['sqft_living']\n",
    "mu = x.mean()\n",
    "sigma = x.std()\n",
    "z = (x-mu)/sigma\n",
    "\n",
    "# reshaping x to be a n by 1 matrix since that's how scikit learn likes data for standardization\n",
    "x_reshaped = np.array(x).reshape(-1,1)\n",
    "z_sklearn = StandardScaler().fit_transform(x_reshaped)\n",
    "\n",
    "# Plotting the histogram of the variable before standardization\n",
    "fig, ax = plt.subplots(nrows=1, ncols=3, figsize=(24,5))\n",
    "ax = ax.ravel()\n",
    "\n",
    "ax[0].hist(x, bins=100)\n",
    "ax[0].set_title('Histogram of sqft_living before standardization')\n",
    "\n",
    "ax[1].hist(z, bins=100)\n",
    "ax[1].set_title('Manually standardizing sqft_living')\n",
    "\n",
    "ax[2].hist(z_sklearn, bins=100)\n",
    "ax[2].set_title('Standardizing sqft_living using scikit learn');\n",
    "\n",
    "# making things a dataframe to check if they work\n",
    "pd.DataFrame({'x': x, 'z_manual': z, 'z_sklearn': z_sklearn.flatten()}).describe()"
   ]
  },
  {
   "cell_type": "markdown",
   "metadata": {},
   "source": [
    "### Min-Max Scaler (Normalization)\n",
    "\n",
    "[Here's](https://scikit-learn.org/stable/modules/generated/sklearn.preprocessing.MinMaxScaler.html) the scikit-learn implementation of the standard scaler. What is it doing though? \n",
    "\n",
    "$$\n",
    "x_{new} = \\frac{x-x_{min}}{x_{max}-x_{min}}\n",
    "$$\n",
    "\n",
    "In the above setup: \n",
    "\n",
    "- $x_{new}$ is the normalized variable\n",
    "- $x$ is the variable before normalized\n",
    "- $x_{max}$ is the max value of the variable before normalization\n",
    "- $x_{min}$ is the min value of the variable before normalization\n",
    "\n",
    "Let's see an example of how this works:"
   ]
  },
  {
   "cell_type": "code",
   "execution_count": null,
   "metadata": {},
   "outputs": [],
   "source": [
    "from sklearn.preprocessing import MinMaxScaler\n",
    "\n",
    "x = house_df['sqft_living']\n",
    "x_new = (x-x.min())/(x.max()-x.min())\n",
    "\n",
    "# reshaping x to be a n by 1 matrix since that's how scikit learn likes data for normalization\n",
    "x_reshaped = np.array(x).reshape(-1,1)\n",
    "x_new_sklearn = MinMaxScaler().fit_transform(x_reshaped)\n",
    "\n",
    "# Plotting the histogram of the variable before normalization\n",
    "fig, ax = plt.subplots(nrows=1, ncols=3, figsize=(24,5))\n",
    "ax = ax.ravel()\n",
    "\n",
    "ax[0].hist(x, bins=100)\n",
    "ax[0].set_title('Histogram of sqft_living before normalization')\n",
    "\n",
    "ax[1].hist(x_new, bins=100)\n",
    "ax[1].set_title('Manually normalizing sqft_living')\n",
    "\n",
    "ax[2].hist(x_new_sklearn, bins=100)\n",
    "ax[2].set_title('Normalizing sqft_living using scikit learn');\n",
    "\n",
    "# making things a dataframe to check if they work\n",
    "pd.DataFrame({'x': x, 'x_new_manual': x_new, 'x_new_sklearn': x_new_sklearn.flatten()}).describe()"
   ]
  },
  {
   "cell_type": "markdown",
   "metadata": {},
   "source": [
    "**The million dollar question**\n",
    "\n",
    "Should I standardize or normalize my data? [This](https://medium.com/@rrfd/standardize-or-normalize-examples-in-python-e3f174b65dfc), [this](https://medium.com/@swethalakshmanan14/how-when-and-why-should-you-normalize-standardize-rescale-your-data-3f083def38ff) and [this](https://stackoverflow.com/questions/32108179/linear-regression-normalization-vs-standardization) are useful resources that I highly recommend. But in a nutshell, what they say is the following: \n",
    "\n",
    "**Pros of Normalization**\n",
    "\n",
    "1. Normalization (which makes your data go from 0-1) is widely used in image processing and computer vision, where pixel intensities are non-negative and are typically scaled from a 0-255 scale to a 0-1 range for a lot of different algorithms. \n",
    "2. Normalization is also very useful in neural networks (which we will see later in the course) as it leads to the algorithms converging faster.\n",
    "3. Normalization is useful when your data does not have a discernible distribution and you are not making assumptions about your data's distribution.\n",
    "\n",
    "**Pros of Standardization**\n",
    "\n",
    "1. Standardization maintains outliers (do you see why?) whereas normalization makes outliers less obvious. In applications where outliers are useful, standardization should be done.\n",
    "2. Standardization is useful when you assume your data comes from a Gaussian distribution (or something that is approximately Gaussian). \n",
    "\n",
    "**Some General Advice**\n",
    "\n",
    "1. We learn parameters for standardization ($\\mu$ and $\\sigma$) and for normalization ($x_{min}$ and $x_{max}$). Make sure these parameters are learned on the training set i.e use the training set parameters even when normalizing/standardizing the test set. In sklearn terms, fit your scaler on the training set and use the scaler to transform your test set and validation set (**don't re-fit your scaler on test set data!**).\n",
    "2. The point of standardization and normalization is to make your variables take on a more manageable scale. You should ideally standardize or normalize all your variables at the same time. \n",
    "3. Standardization and normalization is not always needed and is not an automatic thing you have to do on any data science homework!! Do so sparingly and try to justify why this is needed.\n",
    "\n",
    "**Interpreting Coefficients**\n",
    "\n",
    "A great quote from [here](https://stats.stackexchange.com/questions/29781/when-conducting-multiple-regression-when-should-you-center-your-predictor-varia)\n",
    "\n",
    "> [Standardization] makes it so the intercept term is interpreted as the expected value of 𝑌𝑖 when the predictor values are set to their means. Otherwise, the intercept is interpreted as the expected value of 𝑌𝑖 when the predictors are set to 0, which may not be a realistic or interpretable situation (e.g. what if the predictors were height and weight?)\n",
    "\n",
    "### Standardizing our Design Matrix"
   ]
  },
  {
   "cell_type": "code",
   "execution_count": null,
   "metadata": {},
   "outputs": [],
   "source": [
    "features = ['bedrooms', 'bathrooms', 'sqft_living', 'sqft_lot', 'floors', 'sqft_above', 'sqft_basement',\n",
    "            'lat', 'long']\n",
    "\n",
    "X_train = train_df[features]\n",
    "y_train = np.array(train_df['price']).reshape(-1,1)\n",
    "\n",
    "X_val = val_df[features]\n",
    "y_val = np.array(val_df['price']).reshape(-1,1)\n",
    "\n",
    "X_test = test_df[features]\n",
    "y_test = np.array(test_df['price']).reshape(-1,1)\n",
    "\n",
    "scaler = StandardScaler().fit(X_train)\n",
    "\n",
    "# This converts our matrices into numpy matrices\n",
    "X_train_t = scaler.transform(X_train)\n",
    "X_val_t = scaler.transform(X_val)\n",
    "X_test_t = scaler.transform(X_test)\n",
    "\n",
    "# Making the numpy matrices pandas dataframes\n",
    "X_train_df = pd.DataFrame(X_train_t, columns=features)\n",
    "X_val_df = pd.DataFrame(X_val_t, columns=features)\n",
    "X_test_df = pd.DataFrame(X_test_t, columns=features)\n",
    "\n",
    "display(X_train_df.describe())\n",
    "display(X_val_df.describe())\n",
    "display(X_test_df.describe())"
   ]
  },
  {
   "cell_type": "code",
   "execution_count": null,
   "metadata": {},
   "outputs": [],
   "source": [
    "scaler = StandardScaler().fit(y_test)\n",
    "y_train = scaler.transform(y_train)\n",
    "y_val = scaler.transform(y_val)\n",
    "y_test = scaler.transform(y_test)"
   ]
  },
  {
   "cell_type": "markdown",
   "metadata": {},
   "source": [
    "## One-Degree Polynomial Model"
   ]
  },
  {
   "cell_type": "code",
   "execution_count": null,
   "metadata": {},
   "outputs": [],
   "source": [
    "import statsmodels.api as sm\n",
    "from statsmodels.regression.linear_model import OLS\n",
    "\n",
    "model_1 = OLS(np.array(y_train).reshape(-1,1), sm.add_constant(X_train_df)).fit()\n",
    "model_1.summary()"
   ]
  },
  {
   "cell_type": "markdown",
   "metadata": {},
   "source": [
    "## Two-Degree Polynomial Model"
   ]
  },
  {
   "cell_type": "code",
   "execution_count": null,
   "metadata": {},
   "outputs": [],
   "source": [
    "def add_square_terms(df):\n",
    "    df = df.copy()\n",
    "    cols = df.columns.copy()\n",
    "    for col in cols:\n",
    "        df['{}^2'.format(col)] = df[col]**2\n",
    "    return df\n",
    "\n",
    "X_train_df_2 = add_square_terms(X_train)\n",
    "X_val_df_2 = add_square_terms(X_val)\n",
    "\n",
    "# Standardizing our added coefficients\n",
    "cols = X_train_df_2.columns\n",
    "scaler = StandardScaler().fit(X_train_df_2)\n",
    "X_train_df_2 = pd.DataFrame(scaler.transform(X_train_df_2), columns=cols)\n",
    "X_val_df_2 = pd.DataFrame(scaler.transform(X_val_df_2), columns=cols)\n",
    "\n",
    "print(X_train_df.shape, X_train_df_2.shape)\n",
    "\n",
    "# Also check using the describe() function that the mean and standard deviations are the way we want them\n",
    "X_train_df_2.head()"
   ]
  },
  {
   "cell_type": "code",
   "execution_count": null,
   "metadata": {},
   "outputs": [],
   "source": [
    "model_2 = OLS(np.array(y_train).reshape(-1,1), sm.add_constant(X_train_df_2)).fit()\n",
    "model_2.summary()"
   ]
  },
  {
   "cell_type": "markdown",
   "metadata": {},
   "source": [
    "## Three-Degree Polynomial Model"
   ]
  },
  {
   "cell_type": "code",
   "execution_count": null,
   "metadata": {
    "scrolled": false
   },
   "outputs": [],
   "source": [
    "# generalizing our function from above\n",
    "def add_square_and_cube_terms(df):\n",
    "    df = df.copy()\n",
    "    cols = df.columns.copy()\n",
    "    for col in cols:\n",
    "        df['{}^2'.format(col)] = df[col]**2\n",
    "        df['{}^3'.format(col)] = df[col]**3\n",
    "    return df\n",
    "\n",
    "X_train_df_3 = add_square_and_cube_terms(X_train_df)\n",
    "X_val_df_3 = add_square_and_cube_terms(X_val_df)\n",
    "\n",
    "# Standardizing our added coefficients\n",
    "cols = X_train_df_3.columns\n",
    "scaler = StandardScaler().fit(X_train_df_3)\n",
    "X_train_df_3 = pd.DataFrame(scaler.transform(X_train_df_3), columns=cols)\n",
    "X_val_df_3 = pd.DataFrame(scaler.transform(X_val_df_3), columns=cols)\n",
    "\n",
    "print(X_train_df.shape, X_train_df_3.shape)\n",
    "\n",
    "# Also check using the describe() function that the mean and standard deviations are the way we want them\n",
    "X_train_df_3.head()"
   ]
  },
  {
   "cell_type": "code",
   "execution_count": null,
   "metadata": {},
   "outputs": [],
   "source": [
    "model_3 = OLS(np.array(y_train).reshape(-1,1), sm.add_constant(X_train_df_3)).fit()\n",
    "model_3.summary()"
   ]
  },
  {
   "cell_type": "markdown",
   "metadata": {},
   "source": [
    "## N-Degree Polynomial Model"
   ]
  },
  {
   "cell_type": "code",
   "execution_count": null,
   "metadata": {},
   "outputs": [],
   "source": [
    "# generalizing our function from above\n",
    "def add_higher_order_polynomial_terms(df, N=7):\n",
    "    df = df.copy()\n",
    "    cols = df.columns.copy()\n",
    "    for col in cols:\n",
    "        for i in range(2, N+1):\n",
    "            df['{}^{}'.format(col, i)] = df[col]**i\n",
    "    return df\n",
    "\n",
    "N = 6\n",
    "X_train_df_N = add_higher_order_polynomial_terms(X_train_df,N)\n",
    "X_val_df_N = add_higher_order_polynomial_terms(X_val_df,N)\n",
    "\n",
    "# Standardizing our added coefficients\n",
    "cols = X_train_df_N.columns\n",
    "scaler = StandardScaler().fit(X_train_df_N)\n",
    "X_train_df_N = pd.DataFrame(scaler.transform(X_train_df_N), columns=cols)\n",
    "X_val_df_N = pd.DataFrame(scaler.transform(X_val_df_N), columns=cols)\n",
    "\n",
    "print(X_train_df.shape, X_train_df_N.shape)\n",
    "\n",
    "# Also check using the describe() function that the mean and standard deviations are the way we want them\n",
    "X_train_df_N.head()"
   ]
  },
  {
   "cell_type": "code",
   "execution_count": null,
   "metadata": {
    "scrolled": false
   },
   "outputs": [],
   "source": [
    "model_N = OLS(np.array(y_train).reshape(-1,1), sm.add_constant(X_train_df_N)).fit()\n",
    "model_N.summary()"
   ]
  },
  {
   "cell_type": "markdown",
   "metadata": {},
   "source": [
    "You can also create a model with interaction terms or any other higher order polynomial term of your choice. \n",
    "**Note:** Can you see how creating a function that takes in a dataframe and a degree and creates polynomial terms up until that degree can be useful? This is what we have you do in your homework!"
   ]
  },
  {
   "cell_type": "markdown",
   "metadata": {},
   "source": [
    "# Regularization\n",
    "\n",
    "## What is Regularization and why should I care?\n",
    "\n",
    "When we have a lot of predictors, we need to worry about overfitting. Let's check this out:"
   ]
  },
  {
   "cell_type": "code",
   "execution_count": null,
   "metadata": {},
   "outputs": [],
   "source": [
    "from sklearn.metrics import r2_score\n",
    "\n",
    "\n",
    "x = [1,2,3,N]\n",
    "models = [model_1, model_2, model_3, model_N]\n",
    "X_trains = [X_train_df, X_train_df_2, X_train_df_3, X_train_df_N]\n",
    "X_vals = [X_val_df, X_val_df_2, X_val_df_3, X_val_df_N]\n",
    "\n",
    "r2_train = []\n",
    "r2_val = []\n",
    "\n",
    "for i,model in enumerate(models):\n",
    "    y_pred_tra = model.predict(sm.add_constant(X_trains[i]))\n",
    "    y_pred_val = model.predict(sm.add_constant(X_vals[i]))\n",
    "    r2_train.append(r2_score(y_train, y_pred_tra))\n",
    "    r2_val.append(r2_score(y_val, y_pred_val))\n",
    "    \n",
    "fig, ax = plt.subplots(figsize=(8,6))\n",
    "ax.plot(x, r2_train, 'o-', label=r'Training $R^2$')\n",
    "ax.plot(x, r2_val, 'o-', label=r'Validation $R^2$')\n",
    "ax.set_xlabel('Number of degree of polynomial')\n",
    "ax.set_ylabel(r'$R^2$ score')\n",
    "ax.set_title(r'$R^2$ score vs polynomial degree')\n",
    "ax.legend();"
   ]
  },
  {
   "cell_type": "markdown",
   "metadata": {},
   "source": [
    "We notice a big difference between training and validation R^2 scores: seems like we are overfitting. **Introducing: regularization.**"
   ]
  },
  {
   "cell_type": "markdown",
   "metadata": {},
   "source": [
    "## What about Multicollinearity?"
   ]
  },
  {
   "cell_type": "markdown",
   "metadata": {},
   "source": [
    "There's seemingly a lot of multicollinearity in the data. Take a look at this warning that we got when showing our summary for our polynomial models: \n",
    "\n",
    "<img src=\"../fig/warning.png\" width=\"400\">\n",
    "\n",
    "What is [multicollinearity](https://en.wikipedia.org/wiki/Multicollinearity)? Why do we have it in our dataset? Why is this a problem? \n",
    "\n",
    "Does regularization help solve the issue of multicollinearity? "
   ]
  },
  {
   "cell_type": "markdown",
   "metadata": {},
   "source": [
    "## What does Regularization help with?\n",
    "\n",
    "We have some pretty large and extreme coefficient values in our most recent models. These coefficient values also have very high variance. We can also clearly see some overfitting to the training set. In order to reduce the coefficients of our parameters, we can introduce a penalty term that penalizes some of these extreme coefficient values. Specifically, regularization helps us: \n",
    "\n",
    "1. Avoid overfitting. Reduce features that have weak predictive power.\n",
    "2. Discourage the use of a model that is too complex\n",
    "\n",
    "<img src=\"../fig/overfit.png\" width=\"600\">\n",
    "\n",
    "### Big Idea: Reduce Variance by Increasing Bias\n",
    "\n",
    "Image Source: [here](https://www.cse.wustl.edu/~m.neumann/sp2016/cse517/lecturenotes/lecturenote12.html)\n",
    "\n",
    "<img src=\"../fig/bias_variance.png\" width=\"600\">\n",
    "\n",
    "## Ridge Regression\n",
    "\n",
    "Ridge Regression is one such form of regularization. In practice, the ridge estimator reduces the complexity of the model by shrinking the coefficients, but it doesn’t nullify them. We control the amount of regularization using a parameter $\\lambda$. **NOTE**: sklearn's [ridge regression package](https://scikit-learn.org/stable/modules/generated/sklearn.linear_model.Ridge.html) represents this $\\lambda$ using a parameter alpha. In Ridge Regression, the penalty term is proportional to the L2-norm of the coefficients. \n",
    "\n",
    "<img src=\"../fig/ridge.png\" width=\"400\">\n",
    "\n",
    "## Lasso Regression\n",
    "\n",
    "Lasso Regression is another form of regularization. Again, we control the amount of regularization using a parameter $\\lambda$. **NOTE**: sklearn's [lasso regression package](https://scikit-learn.org/stable/modules/generated/sklearn.linear_model.Lasso.html) represents this $\\lambda$ using a parameter alpha. In Lasso Regression, the penalty term is proportional to the L1-norm of the coefficients. \n",
    "\n",
    "<img src=\"../fig/lasso.png\" width=\"400\">\n",
    "\n",
    "### Some Differences between Ridge and Lasso Regression\n",
    "\n",
    "1. Since Lasso regression tend to produce zero estimates for a number of model parameters - we say that Lasso solutions are **sparse** - we consider to be a method for variable selection.\n",
    "2. In Ridge Regression, the penalty term is proportional to the L2-norm of the coefficients whereas in Lasso Regression, the penalty term is proportional to the L1-norm of the coefficients.\n",
    "3. Ridge Regression has a closed form solution! Lasso Regression does not. We often have to solve this iteratively. In the sklearn package for Lasso regression, there is a parameter called `max_iter` that determines how many iterations we perform. \n",
    "\n",
    "### Why Standardizing Variables was not a waste of time\n",
    "\n",
    "Lasso regression puts constraints on the size of the coefficients associated to each variable. However, this value will depend on the magnitude of each variable. It is therefore necessary to standardize the variables. "
   ]
  },
  {
   "cell_type": "markdown",
   "metadata": {},
   "source": [
    "## Let's use Ridge and Lasso to regularize our degree 10 polynomial"
   ]
  },
  {
   "cell_type": "markdown",
   "metadata": {},
   "source": [
    "**Exercise**: Play around with different values of alpha. Notice the new $R^2$ value and also the range of values that the predictors take in the plot."
   ]
  },
  {
   "cell_type": "code",
   "execution_count": null,
   "metadata": {},
   "outputs": [],
   "source": [
    "from sklearn.linear_model import Ridge\n",
    "\n",
    "# some values you can try out: 0.01, 0.1, 0.5, 1, 5, 10, 20, 40, 100, 200, 500, 1000, 10000\n",
    "alpha = 100\n",
    "ridge_model = Ridge(alpha=alpha).fit(X_train_df_N, y_train)\n",
    "\n",
    "print('R squared score for our original OLS model: {}'.format(r2_val[-1]))\n",
    "print('R squared score for Ridge with alpha={}: {}'.format(alpha, ridge_model.score(X_val_df_N,y_val)))\n",
    "\n",
    "fig, ax = plt.subplots(figsize=(18,8), ncols=2)\n",
    "ax = ax.ravel()\n",
    "ax[0].hist(model_N.params, bins=10, alpha=0.5)\n",
    "ax[0].set_title('Histogram of predictor values for Original model with N: {}'.format(N))\n",
    "ax[0].set_xlabel('Predictor values')\n",
    "ax[0].set_ylabel('Frequency')\n",
    "\n",
    "ax[1].hist(ridge_model.coef_.flatten(), bins=20, alpha=0.5)\n",
    "ax[1].set_title('Histogram of predictor values for Ridge Model with alpha: {}'.format(alpha))\n",
    "ax[1].set_xlabel('Predictor values')\n",
    "ax[1].set_ylabel('Frequency');"
   ]
  },
  {
   "cell_type": "code",
   "execution_count": null,
   "metadata": {},
   "outputs": [],
   "source": [
    "from sklearn.linear_model import Lasso\n",
    "\n",
    "# some values you can try out: 0.00001, 0.0001, 0.001, 0.01, 0.05, 0.1, 0.5, 1, 2, 5, 10, 20\n",
    "alpha = 0.01\n",
    "lasso_model = Lasso(alpha=alpha, max_iter = 1000).fit(X_train_df_N, y_train)\n",
    "\n",
    "print('R squared score for our original OLS model: {}'.format(r2_val[-1]))\n",
    "print('R squared score for Lasso with alpha={}: {}'.format(alpha, lasso_model.score(X_val_df_N,y_val)))\n",
    "\n",
    "fig, ax = plt.subplots(figsize=(18,8), ncols=2)\n",
    "ax = ax.ravel()\n",
    "ax[0].hist(model_N.params, bins=10, alpha=0.5)\n",
    "ax[0].set_title('Histogram of predictor values for Original model with N: {}'.format(N))\n",
    "ax[0].set_xlabel('Predictor values')\n",
    "ax[0].set_ylabel('Frequency')\n",
    "\n",
    "ax[1].hist(lasso_model.coef_.flatten(), bins=20, alpha=0.5)\n",
    "ax[1].set_title('Histogram of predictor values for Lasso Model with alpha: {}'.format(alpha))\n",
    "ax[1].set_xlabel('Predictor values')\n",
    "ax[1].set_ylabel('Frequency');"
   ]
  },
  {
   "cell_type": "markdown",
   "metadata": {},
   "source": [
    "## Model Selection and Cross-Validation\n",
    "\n",
    "Here's our current setup so far: \n",
    "\n",
    "<img src=\"../fig/train_val_test.png\" width=\"400\">\n",
    "\n",
    "So we try out 10,000 different models on our validation set and pick the one that's the best? No! **Since we could also be overfitting the validation set!** \n",
    "\n",
    "One solution to the problems raised by using a single validation set is to evaluate each model on multiple validation sets and average the validation performance. This is the essence of cross-validation!\n",
    "\n",
    "<img src=\"../fig/cross_val.png\" width=\"700\">\n",
    "\n",
    "Image source: [here](https://medium.com/@sebastiannorena/some-model-tuning-methods-bfef3e6544f0)\n",
    "\n",
    "Let's give this a try using [RidgeCV](https://scikit-learn.org/stable/modules/generated/sklearn.linear_model.RidgeCV.html) and [LassoCV](https://scikit-learn.org/stable/modules/generated/sklearn.linear_model.LassoCV.html):"
   ]
  },
  {
   "cell_type": "code",
   "execution_count": null,
   "metadata": {},
   "outputs": [],
   "source": [
    "from sklearn.linear_model import RidgeCV\n",
    "from sklearn.linear_model import LassoCV\n",
    "\n",
    "alphas = (0.001, 0.01, 0.1, 10, 100, 1000, 10000)\n",
    "\n",
    "# Let us do k-fold cross validation \n",
    "k = 4\n",
    "fitted_ridge = RidgeCV(alphas=alphas).fit(X_train_df_N, y_train)\n",
    "fitted_lasso = LassoCV(alphas=alphas).fit(X_train_df_N, y_train)\n",
    "\n",
    "print('R^2 score for our original OLS model: {}\\n'.format(r2_val[-1]))\n",
    "\n",
    "ridge_a = fitted_ridge.alpha_\n",
    "print('Best alpha for ridge: {}'.format(ridge_a))\n",
    "print('R^2 score for Ridge with alpha={}: {}\\n'.format(ridge_a, fitted_ridge.score(X_val_df_N,y_val)))\n",
    "\n",
    "lasso_a = fitted_lasso.alpha_\n",
    "print('Best alpha for lasso: {}'.format(lasso_a))\n",
    "print('R squared score for Lasso with alpha={}: {}'.format(lasso_a, fitted_lasso.score(X_val_df_N,y_val)))"
   ]
  },
  {
   "cell_type": "markdown",
   "metadata": {},
   "source": [
    "We can also look at the coefficients of our CV models."
   ]
  },
  {
   "cell_type": "markdown",
   "metadata": {},
   "source": [
    "**Final Step:** report the score on the test set for the model you have chosen to be the best."
   ]
  },
  {
   "cell_type": "markdown",
   "metadata": {},
   "source": [
    "----------------\n",
    "### End of Standard Section\n",
    "---------------"
   ]
  }
 ],
 "metadata": {
  "kernelspec": {
   "display_name": "Python 3",
   "language": "python",
   "name": "python3"
  },
  "language_info": {
   "codemirror_mode": {
    "name": "ipython",
    "version": 3
   },
   "file_extension": ".py",
   "mimetype": "text/x-python",
   "name": "python",
   "nbconvert_exporter": "python",
   "pygments_lexer": "ipython3",
   "version": "3.7.4"
  }
 },
 "nbformat": 4,
 "nbformat_minor": 2
}

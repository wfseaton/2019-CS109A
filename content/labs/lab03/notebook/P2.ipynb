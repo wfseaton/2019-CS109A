{
 "cells": [
  {
   "cell_type": "markdown",
   "metadata": {},
   "source": [
    "# Part 2 [30 pts]: Python Basics\n",
    "\n",
    "## Problem 2 [10 pts]: Count and Plot\n",
    "\n",
    "In this problem, you will make a bar plot of the computer languages that students who take CS207 know. The file languages.txt contains all the languages that students listed as their primary language in the course survey from a previous iteration of the course.\n",
    "\n",
    "Do the following:\n",
    "\n",
    "1. Write a function called languages that accepts a string representing the languages filename.\n",
    "2. Load the language strings from the file into a list (you may assume the file is in the current directory).\n",
    "3. Use the Counter function from the collections library to count the number of occurrences of each element of the list. Print out your answer to the screen.\n",
    "4. The languages function should return the frequency and label of each language (this can be extracted from the dictionary returned by the Counter function).\n",
    "5. In the same file where you defined the function (P2.py), call the function with languages.txt and get the labels and frequency.\n",
    "6. Create a bar plot to display the frequency of each language. Be sure to label the x-axis!\n",
    "    *Be sure to import matplotlib: import matplotlib.pyplot as plt.\n",
    "    *To generate the bar plot write plt.bar(x_coords, freqs). You need to define x_coords and freqs.\n",
    "    *Hint: You may want to use the numpy arange function to create x_coords. Remember, x_coords is the x-axis and it should have points for each distinct language.\n",
    "    *Hint: To get freqs, you may want to use the values() method on your result from step 2. That is, freqs = result_from_2.values().\n",
    "    *Hint: To label the x-axis you should use plt.xticks(x_coords, labels) where labels can be accessed through the keys() method on your result from step 2.\n",
    "    \n",
    "    ### TODO: FINISH ORDERED LIST\n",
    "\n",
    "### Final Deliverables\n",
    "\n",
    "    *The P2.py file containing your code\n",
    "    *The bar plot (in .png or .pdf format)\n",
    "    *Please include the languages.txt file in your HW2-final/ directory.\n"
   ]
  },
  {
   "cell_type": "code",
   "execution_count": 2,
   "metadata": {},
   "outputs": [],
   "source": [
    "import pandas as pd\n",
    "from collections import Counter"
   ]
  },
  {
   "cell_type": "code",
   "execution_count": null,
   "metadata": {},
   "outputs": [],
   "source": [
    "def languages(filename -> string):\n",
    "    \"\"\"\n",
    "    TODO: ADD PURPOSE\n",
    "    Inputs:\n",
    "        filename: String representing the file's name\n",
    "    Outputs:\n",
    "        \n",
    "    \"\"\"\n",
    "    file = pd.read_csv(filename)\n",
    "    string_list = []\n",
    "    for i in range(len(file)):\n",
    "        string_list.append(file.iloc[i])\n",
    "    languages_counter = Counter(string_list)\n",
    "    print(languages_counter)\n",
    "    return languages_counter"
   ]
  },
  {
   "cell_type": "code",
   "execution_count": 9,
   "metadata": {},
   "outputs": [
    {
     "name": "stdout",
     "output_type": "stream",
     "text": [
      "<class 'pandas.core.frame.DataFrame'>     Python\n",
      "0      C++\n",
      "1     Java\n",
      "2   Python\n",
      "3   Python\n",
      "4   Python\n",
      "5   Python\n",
      "6      C++\n",
      "7   Python\n",
      "8        C\n",
      "9    Other\n",
      "10  Python\n",
      "11  Python\n",
      "12  Python\n",
      "13     C++\n",
      "14   Other\n",
      "15  Python\n",
      "16  Python\n",
      "17  Python\n",
      "18    Java\n",
      "19  Python\n",
      "20  Python\n",
      "21      C#\n",
      "22  Python\n",
      "23     SQL\n",
      "24     C++\n",
      "25     C++\n",
      "26  Python\n",
      "27    Java\n",
      "28    Java\n",
      "29    Java\n",
      "30  Python\n",
      "31  Python\n",
      "32  Python\n",
      "33     SQL\n",
      "34    Java\n",
      "35  Python\n",
      "36  Python\n",
      "37     C++\n",
      "38    Java\n",
      "39  Python\n",
      "40  Python\n",
      "41      VB\n",
      "42  Python\n",
      "43  Python\n"
     ]
    }
   ],
   "source": [
    "file = pd.read_csv(\"languages.txt\")\n",
    "print(type(file), file)"
   ]
  },
  {
   "cell_type": "code",
   "execution_count": 27,
   "metadata": {},
   "outputs": [
    {
     "ename": "IndexError",
     "evalue": "list assignment index out of range",
     "output_type": "error",
     "traceback": [
      "\u001b[0;31m---------------------------------------------------------------------------\u001b[0m",
      "\u001b[0;31mIndexError\u001b[0m                                Traceback (most recent call last)",
      "\u001b[0;32m<ipython-input-27-24da775beb57>\u001b[0m in \u001b[0;36m<module>\u001b[0;34m\u001b[0m\n\u001b[1;32m      1\u001b[0m \u001b[0mstring_list\u001b[0m \u001b[0;34m=\u001b[0m \u001b[0;34m[\u001b[0m\u001b[0;34m]\u001b[0m\u001b[0;34m\u001b[0m\u001b[0;34m\u001b[0m\u001b[0m\n\u001b[1;32m      2\u001b[0m \u001b[0;32mfor\u001b[0m \u001b[0mi\u001b[0m \u001b[0;32min\u001b[0m \u001b[0mrange\u001b[0m\u001b[0;34m(\u001b[0m\u001b[0mlen\u001b[0m\u001b[0;34m(\u001b[0m\u001b[0mfile\u001b[0m\u001b[0;34m)\u001b[0m\u001b[0;34m)\u001b[0m\u001b[0;34m:\u001b[0m\u001b[0;34m\u001b[0m\u001b[0;34m\u001b[0m\u001b[0m\n\u001b[0;32m----> 3\u001b[0;31m     \u001b[0mstring_list\u001b[0m\u001b[0;34m[\u001b[0m\u001b[0mi\u001b[0m\u001b[0;34m]\u001b[0m \u001b[0;34m=\u001b[0m \u001b[0mfile\u001b[0m\u001b[0;34m.\u001b[0m\u001b[0miloc\u001b[0m\u001b[0;34m[\u001b[0m\u001b[0mi\u001b[0m\u001b[0;34m]\u001b[0m\u001b[0;34m\u001b[0m\u001b[0;34m\u001b[0m\u001b[0m\n\u001b[0m",
      "\u001b[0;31mIndexError\u001b[0m: list assignment index out of range"
     ]
    }
   ],
   "source": [
    "string_list = []\n",
    "for i in range(len(file)):\n",
    "    string_list[i] = file.iloc[i]"
   ]
  },
  {
   "cell_type": "code",
   "execution_count": 24,
   "metadata": {},
   "outputs": [
    {
     "data": {
      "text/plain": [
       "list"
      ]
     },
     "execution_count": 24,
     "metadata": {},
     "output_type": "execute_result"
    }
   ],
   "source": [
    "type(string_list)"
   ]
  },
  {
   "cell_type": "code",
   "execution_count": 29,
   "metadata": {},
   "outputs": [],
   "source": [
    "string_list_test = [\"Python\",\n",
    "\"C++\",\n",
    "\"Java\",\n",
    "\"Python\",\n",
    "\"Python\",\n",
    "\"Python\",\n",
    "\"Python\",\n",
    "\"C++\",\n",
    "\"Python\",\n",
    "\"C\",\n",
    "\"Other\",\n",
    "\"Python\",\n",
    "\"Python\",\n",
    "\"Python\",\n",
    "\"C++\",\n",
    "\"Other\",\n",
    "\"Python\",\n",
    "\"Python\",\n",
    "\"Python\",\n",
    "\"Java\",\n",
    "\"Python\",\n",
    "\"Python\",\n",
    "\"C#\",\n",
    "\"Python\",\n",
    "\"SQL\",\n",
    "\"C++\",\n",
    "\"C++\",\n",
    "\"Python\",\n",
    "\"Java\",\n",
    "\"Java\",\n",
    "\"Java\",\n",
    "\"Python\",\n",
    "\"Python\",\n",
    "\"Python\",\n",
    "\"SQL\",\n",
    "\"Java\",\n",
    "\"Python\",\n",
    "\"Python\",\n",
    "\"C++\",\n",
    "\"Java\",\n",
    "\"Python\",\n",
    "\"Python\",\n",
    "\"VB\",\n",
    "\"Python\",\n",
    "\"Python\"]"
   ]
  },
  {
   "cell_type": "code",
   "execution_count": 31,
   "metadata": {},
   "outputs": [
    {
     "ename": "TypeError",
     "evalue": "'list' object cannot be interpreted as an integer",
     "output_type": "error",
     "traceback": [
      "\u001b[0;31m---------------------------------------------------------------------------\u001b[0m",
      "\u001b[0;31mTypeError\u001b[0m                                 Traceback (most recent call last)",
      "\u001b[0;32m<ipython-input-31-f3d0b5299f14>\u001b[0m in \u001b[0;36m<module>\u001b[0;34m\u001b[0m\n\u001b[0;32m----> 1\u001b[0;31m \u001b[0;32mfor\u001b[0m \u001b[0mi\u001b[0m \u001b[0;32min\u001b[0m \u001b[0mrange\u001b[0m\u001b[0;34m(\u001b[0m\u001b[0mstring_list_test\u001b[0m\u001b[0;34m)\u001b[0m\u001b[0;34m:\u001b[0m\u001b[0;34m\u001b[0m\u001b[0;34m\u001b[0m\u001b[0m\n\u001b[0m\u001b[1;32m      2\u001b[0m     \u001b[0mstring_list\u001b[0m\u001b[0;34m.\u001b[0m\u001b[0mappend\u001b[0m\u001b[0;34m(\u001b[0m\u001b[0mstring_list_test\u001b[0m\u001b[0;34m[\u001b[0m\u001b[0mi\u001b[0m\u001b[0;34m]\u001b[0m\u001b[0;34m)\u001b[0m\u001b[0;34m\u001b[0m\u001b[0;34m\u001b[0m\u001b[0m\n",
      "\u001b[0;31mTypeError\u001b[0m: 'list' object cannot be interpreted as an integer"
     ]
    }
   ],
   "source": []
  },
  {
   "cell_type": "code",
   "execution_count": null,
   "metadata": {},
   "outputs": [],
   "source": []
  }
 ],
 "metadata": {
  "kernelspec": {
   "display_name": "Python 3",
   "language": "python",
   "name": "python3"
  },
  "language_info": {
   "codemirror_mode": {
    "name": "ipython",
    "version": 3
   },
   "file_extension": ".py",
   "mimetype": "text/x-python",
   "name": "python",
   "nbconvert_exporter": "python",
   "pygments_lexer": "ipython3",
   "version": "3.7.3"
  }
 },
 "nbformat": 4,
 "nbformat_minor": 2
}
